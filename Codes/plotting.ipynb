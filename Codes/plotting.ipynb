{
 "cells": [
  {
   "cell_type": "code",
   "execution_count": 31,
   "metadata": {},
   "outputs": [],
   "source": [
    "import json\n",
    "from collections import defaultdict as dd\n",
    "import matplotlib.pyplot as plt\n",
    "fp = open('result.json')\n",
    "f = open('repo_lambda_count.json')\n",
    "f1 = open('comments.json')\n",
    "repo_count_str = f.read()\n",
    "result_str = fp.read()\n",
    "comments_str = f1.read()\n",
    "result_data = json.loads(result_str)\n",
    "repo_count_data = json.loads(repo_count_str)\n",
    "comments_data = json.loads(comments_str)"
   ]
  },
  {
   "cell_type": "code",
   "execution_count": 32,
   "metadata": {
    "scrolled": true
   },
   "outputs": [
    {
     "name": "stdout",
     "output_type": "stream",
     "text": [
      "lambda count:  34472\n",
      "Fraction of comments:  0.07728011139475516\n",
      "Repo's with atleast one lambda:  594\n",
      "Fraction of repo's with atleast one lambda 0.7857142857142857\n"
     ]
    }
   ],
   "source": [
    "python_files = []\n",
    "final_result_data = {}\n",
    "temp = []\n",
    "for i in repo_count_data:\n",
    "    try:\n",
    "        final_result_data[i]=result_data[i]\n",
    "    except:\n",
    "        temp.append(i)\n",
    "        continue\n",
    "l = 0    \n",
    "for i in repo_count_data:\n",
    "    if repo_count_data[i]>0:\n",
    "        l+=1\n",
    "print(\"lambda count: \",sum(repo_count_data.values()))\n",
    "print(\"Fraction of comments: \",sum(comments_data.values())/sum(repo_count_data.values()))\n",
    "print(\"Repo's with atleast one lambda: \",l )\n",
    "print(\"Fraction of repo's with atleast one lambda\", l/len(repo_count_data))\n",
    "for i in temp:\n",
    "    del repo_count_data[i]\n",
    "\n",
    "star_count = {}\n",
    "lambda_count = {}\n",
    "\n",
    "for i in repo_count_data:\n",
    "    if final_result_data[i][len(final_result_data[i])-1]=='k':\n",
    "        star_count[i] = float(final_result_data[i][:-1])\n",
    "    else:\n",
    "        star_count[i] = float(final_result_data[i])/1000\n",
    "    lambda_count[i] = repo_count_data[i]"
   ]
  },
  {
   "cell_type": "code",
   "execution_count": 4,
   "metadata": {},
   "outputs": [
    {
     "data": {
      "text/plain": [
       "Text(0, 0.5, 'Number of occurrences of lambda')"
      ]
     },
     "execution_count": 4,
     "metadata": {},
     "output_type": "execute_result"
    },
    {
     "data": {
      "image/png": "[encoded data removed]",
      "text/plain": [
       "<Figure size 432x288 with 1 Axes>"
      ]
     },
     "metadata": {
      "needs_background": "light"
     },
     "output_type": "display_data"
    }
   ],
   "source": [
    "plt.scatter(list(star_count.values()),list(lambda_count.values()))\n",
    "plt.xlabel('Number of stars in \"K\"')\n",
    "plt.ylabel('Number of occurrences of lambda')"
   ]
  },
  {
   "cell_type": "code",
   "execution_count": 27,
   "metadata": {},
   "outputs": [],
   "source": [
    "key_values = {}\n",
    "for i in lambda_count:\n",
    "    key_values[i] = (star_count[i],lambda_count[i])\n",
    "#print(key_values.values())\n",
    "#print(sorted(key_values.items(), key = lambda kv:(kv[1], kv[0]))) "
   ]
  },
  {
   "cell_type": "code",
   "execution_count": 5,
   "metadata": {},
   "outputs": [],
   "source": [
    "X = list(star_count.values())\n",
    "y = list(lambda_count.values())\n",
    "#print(y)\n",
    "\n",
    "for i in range(len(X)):\n",
    "    X[i] = X[i]*1000\n",
    "#print(X)"
   ]
  },
  {
   "cell_type": "code",
   "execution_count": 6,
   "metadata": {},
   "outputs": [
    {
     "name": "stdout",
     "output_type": "stream",
     "text": [
      "16161.203732639875\n"
     ]
    },
    {
     "data": {
      "text/plain": [
       "[<matplotlib.lines.Line2D at 0x281bb26fcf8>]"
      ]
     },
     "execution_count": 6,
     "metadata": {},
     "output_type": "execute_result"
    },
    {
     "data": {
      "image/png": "[encoded data removed]",
      "text/plain": [
       "<Figure size 432x288 with 1 Axes>"
      ]
     },
     "metadata": {
      "needs_background": "light"
     },
     "output_type": "display_data"
    }
   ],
   "source": [
    "from sklearn.linear_model import LinearRegression\n",
    "from sklearn.model_selection import train_test_split\n",
    "import numpy as np\n",
    "from sklearn.metrics import mean_squared_error\n",
    "X,y = np.array(X),np.array(y)\n",
    "X = X.reshape(-1,1)\n",
    "y = y.reshape(-1,1)\n",
    "x_train,x_test,y_train,y_test=train_test_split(X,y,test_size=0.7,random_state=0)\n",
    "reg = LinearRegression()\n",
    "reg.fit(x_train,y_train)\n",
    "y_predict = reg.predict(x_test)\n",
    "print(mean_squared_error(y_test, y_predict))\n",
    "plt.scatter(x_test,y_test)\n",
    "plt.plot(x_test,y_predict)"
   ]
  },
  {
   "cell_type": "code",
   "execution_count": 7,
   "metadata": {},
   "outputs": [
    {
     "name": "stderr",
     "output_type": "stream",
     "text": [
      "C:\\ProgramData\\Anaconda3\\lib\\site-packages\\sklearn\\linear_model\\logistic.py:433: FutureWarning: Default solver will be changed to 'lbfgs' in 0.22. Specify a solver to silence this warning.\n",
      "  FutureWarning)\n",
      "C:\\ProgramData\\Anaconda3\\lib\\site-packages\\sklearn\\utils\\validation.py:761: DataConversionWarning: A column-vector y was passed when a 1d array was expected. Please change the shape of y to (n_samples, ), for example using ravel().\n",
      "  y = column_or_1d(y, warn=True)\n",
      "C:\\ProgramData\\Anaconda3\\lib\\site-packages\\sklearn\\linear_model\\logistic.py:460: FutureWarning: Default multi_class will be changed to 'auto' in 0.22. Specify the multi_class option to silence this warning.\n",
      "  \"this warning.\", FutureWarning)\n"
     ]
    },
    {
     "name": "stdout",
     "output_type": "stream",
     "text": [
      "0.19382022471910113\n"
     ]
    },
    {
     "data": {
      "text/plain": [
       "<matplotlib.collections.PathCollection at 0x281bae99cc0>"
      ]
     },
     "execution_count": 7,
     "metadata": {},
     "output_type": "execute_result"
    },
    {
     "data": {
      "image/png": "[encoded data removed]",
      "text/plain": [
       "<Figure size 432x288 with 1 Axes>"
      ]
     },
     "metadata": {
      "needs_background": "light"
     },
     "output_type": "display_data"
    }
   ],
   "source": [
    "from sklearn.linear_model import LogisticRegression\n",
    "from sklearn.model_selection import train_test_split\n",
    "import numpy as np\n",
    "from sklearn.metrics import accuracy_score\n",
    "X,y = np.array(X),np.array(y)\n",
    "X = X.reshape(-1,1)\n",
    "y = y.reshape(-1,1)\n",
    "x_train,x_test,y_train,y_test=train_test_split(X,y,test_size=0.7,random_state=0)\n",
    "reg = LogisticRegression()\n",
    "reg.fit(x_train,y_train)\n",
    "y_predict = reg.predict(x_test)\n",
    "print(accuracy_score(y_test, y_predict))\n",
    "plt.scatter(x_test,y_test)\n",
    "plt.scatter(x_test,y_predict,color=\"red\")"
   ]
  },
  {
   "cell_type": "code",
   "execution_count": null,
   "metadata": {},
   "outputs": [],
   "source": []
  },
  {
   "cell_type": "code",
   "execution_count": 8,
   "metadata": {},
   "outputs": [],
   "source": [
    "# Code for creating table for range of lambda count and number of repositories "
   ]
  },
  {
   "cell_type": "code",
   "execution_count": 9,
   "metadata": {},
   "outputs": [],
   "source": [
    "import json\n",
    "from collections import defaultdict as dd\n",
    "import matplotlib.pyplot as plt\n",
    "f = open('repo_lambda_count.json')\n",
    "repo_count_str = f.read()\n",
    "repo_count_data = json.loads(repo_count_str)"
   ]
  },
  {
   "cell_type": "code",
   "execution_count": 10,
   "metadata": {},
   "outputs": [
    {
     "name": "stdout",
     "output_type": "stream",
     "text": [
      "{0: 676, 1: 44, 2: 11, 3: 7, 4: 5, 5: 4, 6: 2, 7: 1, 8: 1, 9: 1, 10: 1, 11: 1, 12: 0, 13: 0, 14: 0, 15: 0, 16: 0, 17: 1, 18: 1, 19: 0}\n"
     ]
    }
   ],
   "source": [
    "x = [i for i in range(0,20)]\n",
    "lambda_count  = {}\n",
    "for i in range(0,20):\n",
    "    lambda_count[i]=0\n",
    "for i in repo_count_data:\n",
    "    j = int(repo_count_data[i]/100)\n",
    "    if j in lambda_count.keys():\n",
    "        lambda_count[j]+=1\n",
    "    else:\n",
    "        lambda_count[j]=1\n",
    "print(lambda_count)"
   ]
  },
  {
   "cell_type": "code",
   "execution_count": 11,
   "metadata": {},
   "outputs": [
    {
     "data": {
      "text/plain": [
       "1858"
      ]
     },
     "execution_count": 11,
     "metadata": {},
     "output_type": "execute_result"
    }
   ],
   "source": [
    "max(repo_count_data.values())"
   ]
  },
  {
   "cell_type": "code",
   "execution_count": 12,
   "metadata": {
    "scrolled": true
   },
   "outputs": [
    {
     "data": {
      "image/png": "[encoded data removed]",
      "text/plain": [
       "<Figure size 1440x720 with 1 Axes>"
      ]
     },
     "metadata": {
      "needs_background": "light"
     },
     "output_type": "display_data"
    }
   ],
   "source": [
    "import matplotlib.pyplot as plt\n",
    "x = repo_count_data.values()\n",
    "num_bins = 30\n",
    "plt.figure(figsize=(20,10))\n",
    "n, bins, patches = plt.hist(x, num_bins, facecolor='blue', alpha=0.5)\n",
    "plt.show()"
   ]
  },
  {
   "cell_type": "code",
   "execution_count": null,
   "metadata": {},
   "outputs": [],
   "source": []
  }
 ],
 "metadata": {
  "kernelspec": {
   "display_name": "Python 3",
   "language": "python",
   "name": "python3"
  },
  "language_info": {
   "codemirror_mode": {
    "name": "ipython",
    "version": 3
   },
   "file_extension": ".py",
   "mimetype": "text/x-python",
   "name": "python",
   "nbconvert_exporter": "python",
   "pygments_lexer": "ipython3",
   "version": "3.7.1"
  }
 },
 "nbformat": 4,
 "nbformat_minor": 2
}
